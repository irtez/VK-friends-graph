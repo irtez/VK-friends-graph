{
 "cells": [
  {
   "cell_type": "code",
   "execution_count": 1,
   "id": "3267c0b1-7fbe-4cb7-a8e4-4bdad599045f",
   "metadata": {
    "scrolled": true
   },
   "outputs": [],
   "source": [
    "#from seleniumwire import undetected_chromedriver as uc\n",
    "import undetected_chromedriver as uc\n",
    "from selenium import webdriver\n",
    "from bs4 import BeautifulSoup as bs\n",
    "from selenium.webdriver.common.by import By\n",
    "from selenium.webdriver.support.ui import WebDriverWait\n",
    "from selenium.webdriver.support import expected_conditions as EC\n",
    "from selenium.webdriver.chrome.service import Service\n",
    "#from webdriver_manager.chrome import ChromeDriverManager\n",
    "from selenium.webdriver.common.proxy import Proxy, ProxyType\n",
    "import time\n",
    "from tqdm.notebook import tqdm"
   ]
  },
  {
   "cell_type": "code",
   "execution_count": 2,
   "id": "dd3d7823-cb22-4f57-bf62-5618b841cb54",
   "metadata": {},
   "outputs": [],
   "source": [
    "chrome_options = webdriver.ChromeOptions()\n",
    "#chrome_options.add_argument(\"--blink-settings=imagesEnabled=false\")\n",
    "#chrome_options.add_argument(\"--disable-crash-reporter\")\n",
    "#chrome_options.add_argument(\"--disable-low-res-tiling\")\n",
    "#chrome_options.add_argument(\"--disable-renderer-backgrounding\")\n",
    "#chrome_options.add_argument(\"--disable-oopr-debug-crash-dump\")\n",
    "#chrome_options.add_argument(\"--no-crash-upload\")\n",
    "#chrome_options.add_argument('--ignore-certificate-errors')\n",
    "driver = uc.Chrome(\n",
    "    #service=Service(ChromeDriverManager().install()),\n",
    "    headless=False,\n",
    "    use_subprocess=False,\n",
    "    user_multi_procs=False,\n",
    "    options=chrome_options\n",
    ")"
   ]
  },
  {
   "cell_type": "code",
   "execution_count": 3,
   "id": "347979fd-bc01-40d7-9019-baeff89a28bc",
   "metadata": {},
   "outputs": [],
   "source": [
    "driver.get(\"https://vk.com/friends\")"
   ]
  },
  {
   "cell_type": "code",
   "execution_count": null,
   "id": "2e63d012-60d5-48b2-9a9d-999da425240d",
   "metadata": {},
   "outputs": [],
   "source": []
  },
  {
   "cell_type": "code",
   "execution_count": null,
   "id": "1fded8bf-8a86-452d-a056-9e7bb3b146eb",
   "metadata": {},
   "outputs": [],
   "source": []
  },
  {
   "cell_type": "code",
   "execution_count": null,
   "id": "00642247-fedc-405c-aaec-ab7faa8d8c79",
   "metadata": {},
   "outputs": [],
   "source": []
  },
  {
   "cell_type": "code",
   "execution_count": null,
   "id": "4f307ae3-f39f-4f96-ae21-286f0ea685b1",
   "metadata": {},
   "outputs": [],
   "source": []
  },
  {
   "cell_type": "code",
   "execution_count": null,
   "id": "d703117b-ffb6-4255-bad5-522639ac418c",
   "metadata": {},
   "outputs": [],
   "source": []
  },
  {
   "cell_type": "code",
   "execution_count": null,
   "id": "f3b37e4e-32ab-4217-9db7-9b48580b732e",
   "metadata": {},
   "outputs": [],
   "source": []
  },
  {
   "cell_type": "code",
   "execution_count": 9,
   "id": "73d23ac0-e2ab-4bb0-9f8f-7cf31402e01b",
   "metadata": {},
   "outputs": [],
   "source": [
    "driver.quit()"
   ]
  },
  {
   "cell_type": "code",
   "execution_count": null,
   "id": "b80171e7-6fe1-4dd8-957a-286ac0cf22aa",
   "metadata": {},
   "outputs": [],
   "source": []
  },
  {
   "cell_type": "code",
   "execution_count": null,
   "id": "3eddaf21-0c53-4a65-8562-dd4f8d1fc526",
   "metadata": {},
   "outputs": [],
   "source": []
  },
  {
   "cell_type": "code",
   "execution_count": null,
   "id": "ee714f41-5a7f-47e6-8b69-98bc10e9ae45",
   "metadata": {},
   "outputs": [],
   "source": []
  },
  {
   "cell_type": "code",
   "execution_count": null,
   "id": "44171188-a286-4be6-8c8f-24777d9a6f5a",
   "metadata": {},
   "outputs": [],
   "source": []
  },
  {
   "cell_type": "code",
   "execution_count": null,
   "id": "9ee6b917-eeee-4bed-84a9-9870bbd68339",
   "metadata": {},
   "outputs": [],
   "source": []
  },
  {
   "cell_type": "code",
   "execution_count": null,
   "id": "3e06b4ac-d589-453f-8588-d8756be534cd",
   "metadata": {},
   "outputs": [],
   "source": []
  }
 ],
 "metadata": {
  "kernelspec": {
   "display_name": "Parsing 3.10",
   "language": "python",
   "name": "parsing_310"
  },
  "language_info": {
   "codemirror_mode": {
    "name": "ipython",
    "version": 3
   },
   "file_extension": ".py",
   "mimetype": "text/x-python",
   "name": "python",
   "nbconvert_exporter": "python",
   "pygments_lexer": "ipython3",
   "version": "3.10.4"
  }
 },
 "nbformat": 4,
 "nbformat_minor": 5
}
